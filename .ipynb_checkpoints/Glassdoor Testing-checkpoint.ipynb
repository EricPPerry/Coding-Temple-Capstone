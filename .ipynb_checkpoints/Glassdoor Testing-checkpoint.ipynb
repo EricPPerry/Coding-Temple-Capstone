{
 "cells": [
  {
   "cell_type": "code",
   "execution_count": 55,
   "metadata": {},
   "outputs": [],
   "source": [
    "import requests\n",
    "from bs4 import BeautifulSoup as soup\n",
    "headers = {'user-agent': 'Mozilla/5.0 (Windows NT 10.0; WOW64) AppleWebKit/537.36 (KHTML, like Gecko) Chrome/83.0.4103.97 Safari/537.36'}\n",
    "html = requests.get('https://www.glassdoor.com/Job/jobs.htm?suggestCount=0&suggestChosen=false&clickSource=searchBtn&typedKeyword=sustainability&sc.keyword=sustainability&locT=C&locId=1154530&jobType=', headers = headers)\n",
    "bsobj = soup(html.content,'html.parser')\n",
    "\n"
   ]
  },
  {
   "cell_type": "code",
   "execution_count": 58,
   "metadata": {},
   "outputs": [
    {
     "name": "stdout",
     "output_type": "stream",
     "text": [
      "31\n",
      "\n",
      " Link: /partner/jobListing.htm?pos=101&ao=1044074&s=149&guid=000001796c53c8b8af447ea7cfa906cc&src=GD_JOB_AD&t=SRFJ&vt=w&cs=1_d882c9d5&cb=1621020101110&jobListingId=4084207046\n",
      "\n",
      " Link: /partner/jobListing.htm?pos=102&ao=1044072&s=149&guid=000001796c53c8b8af447ea7cfa906cc&src=GD_JOB_AD&t=SRFJ&vt=w&ea=1&cs=1_acef5c1b&cb=1621020101111&jobListingId=4034815531\n",
      "\n",
      " Link: /partner/jobListing.htm?pos=101&ao=1044074&s=58&guid=000001796c53c8b8ac1abdc300a53140&src=GD_JOB_AD&t=SR&vt=w&cs=1_19183153&cb=1621020101111&jobListingId=4029463513\n",
      "\n",
      " Link: /partner/jobListing.htm?pos=102&ao=1044077&s=58&guid=000001796c53c8b8ac1abdc300a53140&src=GD_JOB_AD&t=SR&vt=w&ea=1&cs=1_b66489f8&cb=1621020101111&jobListingId=4055114886\n",
      "\n",
      " Link: /partner/jobListing.htm?pos=103&ao=1044077&s=58&guid=000001796c53c8b8ac1abdc300a53140&src=GD_JOB_AD&t=SR&vt=w&ea=1&cs=1_4c7dea43&cb=1621020101111&jobListingId=4077649420\n",
      "\n",
      " Link: /partner/jobListing.htm?pos=104&ao=1044077&s=58&guid=000001796c53c8b8ac1abdc300a53140&src=GD_JOB_AD&t=SR&vt=w&ea=1&cs=1_c036e1ec&cb=1621020101111&jobListingId=4069064552\n",
      "\n",
      " Link: /partner/jobListing.htm?pos=105&ao=1044074&s=58&guid=000001796c53c8b8ac1abdc300a53140&src=GD_JOB_AD&t=SR&vt=w&cs=1_c47ebbd9&cb=1621020101111&jobListingId=4059202158\n",
      "\n",
      " Link: /partner/jobListing.htm?pos=106&ao=1044077&s=58&guid=000001796c53c8b8ac1abdc300a53140&src=GD_JOB_AD&t=SR&vt=w&ea=1&cs=1_f6f7a8af&cb=1621020101111&jobListingId=4066072256\n",
      "\n",
      " Link: /partner/jobListing.htm?pos=107&ao=1044074&s=58&guid=000001796c53c8b8ac1abdc300a53140&src=GD_JOB_AD&t=SR&vt=w&cs=1_74dbb57e&cb=1621020101111&jobListingId=4085504479\n",
      "\n",
      " Link: /partner/jobListing.htm?pos=108&ao=1044074&s=58&guid=000001796c53c8b8ac1abdc300a53140&src=GD_JOB_AD&t=SR&vt=w&cs=1_146324ba&cb=1621020101112&jobListingId=4046851476\n",
      "\n",
      " Link: /partner/jobListing.htm?pos=109&ao=1044077&s=58&guid=000001796c53c8b8ac1abdc300a53140&src=GD_JOB_AD&t=SR&vt=w&cs=1_ddc35c2f&cb=1621020101112&jobListingId=3790280245\n",
      "\n",
      " Link: /partner/jobListing.htm?pos=110&ao=1044077&s=58&guid=000001796c53c8b8ac1abdc300a53140&src=GD_JOB_AD&t=SR&vt=w&ea=1&cs=1_07e2100e&cb=1621020101112&jobListingId=4082516076\n",
      "\n",
      " Link: /partner/jobListing.htm?pos=111&ao=1044077&s=58&guid=000001796c53c8b8ac1abdc300a53140&src=GD_JOB_AD&t=SR&vt=w&ea=1&cs=1_80ce9616&cb=1621020101112&jobListingId=4066072392\n",
      "\n",
      " Link: /partner/jobListing.htm?pos=112&ao=1044074&s=58&guid=000001796c53c8b8ac1abdc300a53140&src=GD_JOB_AD&t=SR&vt=w&ea=1&cs=1_a7836bd9&cb=1621020101113&jobListingId=4061146625\n",
      "\n",
      " Link: /partner/jobListing.htm?pos=113&ao=1136006&s=58&guid=000001796c53c8b8ac1abdc300a53140&src=GD_JOB_AD&t=SR&vt=w&cs=1_6626aed4&cb=1621020101113&jobListingId=4062770582\n",
      "\n",
      " Link: /partner/jobListing.htm?pos=114&ao=1044074&s=58&guid=000001796c53c8b8ac1abdc300a53140&src=GD_JOB_AD&t=SR&vt=w&cs=1_0c72327e&cb=1621020101113&jobListingId=4085504468\n",
      "\n",
      " Link: /partner/jobListing.htm?pos=115&ao=1020558&s=58&guid=000001796c53c8b8ac1abdc300a53140&src=GD_JOB_AD&t=SR&vt=w&cs=1_37c637d2&cb=1621020101113&jobListingId=3808596463\n",
      "\n",
      " Link: /partner/jobListing.htm?pos=116&ao=1044074&s=58&guid=000001796c53c8b8ac1abdc300a53140&src=GD_JOB_AD&t=SR&vt=w&cs=1_5dabe197&cb=1621020101114&jobListingId=4063939667\n",
      "\n",
      " Link: /partner/jobListing.htm?pos=117&ao=1136006&s=58&guid=000001796c53c8b8ac1abdc300a53140&src=GD_JOB_AD&t=SR&vt=w&cs=1_e95cb67c&cb=1621020101114&jobListingId=4087505006\n",
      "\n",
      " Link: /partner/jobListing.htm?pos=118&ao=1044077&s=58&guid=000001796c53c8b8ac1abdc300a53140&src=GD_JOB_AD&t=SR&vt=w&ea=1&cs=1_3b7a0e5f&cb=1621020101114&jobListingId=4057074361\n",
      "\n",
      " Link: /partner/jobListing.htm?pos=119&ao=1044074&s=58&guid=000001796c53c8b8ac1abdc300a53140&src=GD_JOB_AD&t=SR&vt=w&ea=1&cs=1_fdf7ef83&cb=1621020101114&jobListingId=4029469672\n",
      "\n",
      " Link: /partner/jobListing.htm?pos=120&ao=1044077&s=58&guid=000001796c53c8b8ac1abdc300a53140&src=GD_JOB_AD&t=SR&vt=w&ea=1&cs=1_04f70f13&cb=1621020101114&jobListingId=4055775848\n",
      "\n",
      " Link: /partner/jobListing.htm?pos=121&ao=1136006&s=58&guid=000001796c53c8b8ac1abdc300a53140&src=GD_JOB_AD&t=SR&vt=w&cs=1_a2b80c72&cb=1621020101114&jobListingId=4074102115\n",
      "\n",
      " Link: /partner/jobListing.htm?pos=122&ao=1020558&s=58&guid=000001796c53c8b8ac1abdc300a53140&src=GD_JOB_AD&t=SR&vt=w&cs=1_8a59bd64&cb=1621020101114&jobListingId=4088061343\n",
      "\n",
      " Link: /partner/jobListing.htm?pos=123&ao=1044077&s=58&guid=000001796c53c8b8ac1abdc300a53140&src=GD_JOB_AD&t=SR&vt=w&ea=1&cs=1_15bec2e5&cb=1621020101114&jobListingId=4081237375\n",
      "\n",
      " Link: /partner/jobListing.htm?pos=125&ao=1136006&s=58&guid=000001796c53c8b8ac1abdc300a53140&src=GD_JOB_AD&t=SR&vt=w&cs=1_e18893b6&cb=1621020101115&jobListingId=4075026229\n",
      "\n",
      " Link: /partner/jobListing.htm?pos=126&ao=1136006&s=58&guid=000001796c53c8b8ac1abdc300a53140&src=GD_JOB_AD&t=SR&vt=w&cs=1_5cae14cc&cb=1621020101115&jobListingId=4054973295\n",
      "\n",
      " Link: /partner/jobListing.htm?pos=127&ao=1136006&s=58&guid=000001796c53c8b8ac1abdc300a53140&src=GD_JOB_AD&t=SR&vt=w&ea=1&cs=1_7f17e92d&cb=1621020101115&jobListingId=4082844776\n",
      "\n",
      " Link: /partner/jobListing.htm?pos=128&ao=926135&s=58&guid=000001796c53c8b8ac1abdc300a53140&src=GD_JOB_AD&t=SR&vt=w&cs=1_0049e613&cb=1621020101115&jobListingId=4023227344\n",
      "\n",
      " Link: /partner/jobListing.htm?pos=129&ao=1136006&s=58&guid=000001796c53c8b8ac1abdc300a53140&src=GD_JOB_AD&t=SR&vt=w&cs=1_9d2c97d1&cb=1621020101115&jobListingId=4061634448\n",
      "\n",
      " Link: /partner/jobListing.htm?pos=130&ao=186601&s=58&guid=000001796c53c8b8ac1abdc300a53140&src=GD_JOB_AD&t=SR&vt=w&cs=1_a6acac57&cb=1621020101116&jobListingId=4082374608\n"
     ]
    }
   ],
   "source": [
    "job_links =[]\n",
    "findings = bsobj.select(\"a.jobLink\")\n",
    "for job in findings:\n",
    "    if job['href'] in job_links:\n",
    "        pass\n",
    "    else:\n",
    "        job_links.append(job['href'])\n",
    "print(len(job_links))\n",
    "for job in job_links:\n",
    "    print('\\n',f'Link: {job}')"
   ]
  },
  {
   "cell_type": "code",
   "execution_count": 65,
   "metadata": {},
   "outputs": [
    {
     "name": "stdout",
     "output_type": "stream",
     "text": [
      "/partner/jobListing.htm?pos=101&ao=1044074&s=149&guid=000001796c53c8b8af447ea7cfa906cc&src=GD_JOB_AD&t=SRFJ&vt=w&cs=1_d882c9d5&cb=1621020101110&jobListingId=4084207046\n",
      "<!DOCTYPE html>\n",
      "<html><head><title>Apache Tomcat - Error report</title><style type=\"text/css\">H1 {font-family:Tahoma,Arial,sans-serif;color:white;background-color:#525D76;font-size:22px;} H2 {font-family:Tahoma,Arial,sans-serif;color:white;background-color:#525D76;font-size:16px;} H3 {font-family:Tahoma,Arial,sans-serif;color:white;background-color:#525D76;font-size:14px;} BODY {font-family:Tahoma,Arial,sans-serif;color:black;background-color:white;} B {font-family:Tahoma,Arial,sans-serif;color:white;background-color:#525D76;} P {font-family:Tahoma,Arial,sans-serif;background:white;color:black;font-size:12px;}A {color : black;}A.name {color : black;}.line {height: 1px; background-color: #525D76; border: none;}</style> </head><body><h1>HTTP Status 403 - Bots not allowed</h1><div class=\"line\"></div><p><b>type</b> Status report</p><p><b>message</b> <u>Bots not allowed</u></p><p><b>description</b> <u>Access to the specified resource has been forbidden.</u></p><hr class=\"line\"/><h3>Apache Tomcat</h3></body></html>\n",
      "/partner/jobListing.htm?pos=102&ao=1044072&s=149&guid=000001796c53c8b8af447ea7cfa906cc&src=GD_JOB_AD&t=SRFJ&vt=w&ea=1&cs=1_acef5c1b&cb=1621020101111&jobListingId=4034815531\n",
      "<!DOCTYPE html>\n",
      "<html><head><title>Apache Tomcat - Error report</title><style type=\"text/css\">H1 {font-family:Tahoma,Arial,sans-serif;color:white;background-color:#525D76;font-size:22px;} H2 {font-family:Tahoma,Arial,sans-serif;color:white;background-color:#525D76;font-size:16px;} H3 {font-family:Tahoma,Arial,sans-serif;color:white;background-color:#525D76;font-size:14px;} BODY {font-family:Tahoma,Arial,sans-serif;color:black;background-color:white;} B {font-family:Tahoma,Arial,sans-serif;color:white;background-color:#525D76;} P {font-family:Tahoma,Arial,sans-serif;background:white;color:black;font-size:12px;}A {color : black;}A.name {color : black;}.line {height: 1px; background-color: #525D76; border: none;}</style> </head><body><h1>HTTP Status 403 - Bots not allowed</h1><div class=\"line\"></div><p><b>type</b> Status report</p><p><b>message</b> <u>Bots not allowed</u></p><p><b>description</b> <u>Access to the specified resource has been forbidden.</u></p><hr class=\"line\"/><h3>Apache Tomcat</h3></body></html>\n",
      "/partner/jobListing.htm?pos=101&ao=1044074&s=58&guid=000001796c53c8b8ac1abdc300a53140&src=GD_JOB_AD&t=SR&vt=w&cs=1_19183153&cb=1621020101111&jobListingId=4029463513\n",
      "<!DOCTYPE html>\n",
      "<html><head><title>Apache Tomcat - Error report</title><style type=\"text/css\">H1 {font-family:Tahoma,Arial,sans-serif;color:white;background-color:#525D76;font-size:22px;} H2 {font-family:Tahoma,Arial,sans-serif;color:white;background-color:#525D76;font-size:16px;} H3 {font-family:Tahoma,Arial,sans-serif;color:white;background-color:#525D76;font-size:14px;} BODY {font-family:Tahoma,Arial,sans-serif;color:black;background-color:white;} B {font-family:Tahoma,Arial,sans-serif;color:white;background-color:#525D76;} P {font-family:Tahoma,Arial,sans-serif;background:white;color:black;font-size:12px;}A {color : black;}A.name {color : black;}.line {height: 1px; background-color: #525D76; border: none;}</style> </head><body><h1>HTTP Status 403 - Bots not allowed</h1><div class=\"line\"></div><p><b>type</b> Status report</p><p><b>message</b> <u>Bots not allowed</u></p><p><b>description</b> <u>Access to the specified resource has been forbidden.</u></p><hr class=\"line\"/><h3>Apache Tomcat</h3></body></html>\n",
      "/partner/jobListing.htm?pos=102&ao=1044077&s=58&guid=000001796c53c8b8ac1abdc300a53140&src=GD_JOB_AD&t=SR&vt=w&ea=1&cs=1_b66489f8&cb=1621020101111&jobListingId=4055114886\n",
      "<!DOCTYPE html>\n",
      "<html><head><title>Apache Tomcat - Error report</title><style type=\"text/css\">H1 {font-family:Tahoma,Arial,sans-serif;color:white;background-color:#525D76;font-size:22px;} H2 {font-family:Tahoma,Arial,sans-serif;color:white;background-color:#525D76;font-size:16px;} H3 {font-family:Tahoma,Arial,sans-serif;color:white;background-color:#525D76;font-size:14px;} BODY {font-family:Tahoma,Arial,sans-serif;color:black;background-color:white;} B {font-family:Tahoma,Arial,sans-serif;color:white;background-color:#525D76;} P {font-family:Tahoma,Arial,sans-serif;background:white;color:black;font-size:12px;}A {color : black;}A.name {color : black;}.line {height: 1px; background-color: #525D76; border: none;}</style> </head><body><h1>HTTP Status 403 - Bots not allowed</h1><div class=\"line\"></div><p><b>type</b> Status report</p><p><b>message</b> <u>Bots not allowed</u></p><p><b>description</b> <u>Access to the specified resource has been forbidden.</u></p><hr class=\"line\"/><h3>Apache Tomcat</h3></body></html>\n",
      "/partner/jobListing.htm?pos=103&ao=1044077&s=58&guid=000001796c53c8b8ac1abdc300a53140&src=GD_JOB_AD&t=SR&vt=w&ea=1&cs=1_4c7dea43&cb=1621020101111&jobListingId=4077649420\n",
      "<!DOCTYPE html>\n",
      "<html><head><title>Apache Tomcat - Error report</title><style type=\"text/css\">H1 {font-family:Tahoma,Arial,sans-serif;color:white;background-color:#525D76;font-size:22px;} H2 {font-family:Tahoma,Arial,sans-serif;color:white;background-color:#525D76;font-size:16px;} H3 {font-family:Tahoma,Arial,sans-serif;color:white;background-color:#525D76;font-size:14px;} BODY {font-family:Tahoma,Arial,sans-serif;color:black;background-color:white;} B {font-family:Tahoma,Arial,sans-serif;color:white;background-color:#525D76;} P {font-family:Tahoma,Arial,sans-serif;background:white;color:black;font-size:12px;}A {color : black;}A.name {color : black;}.line {height: 1px; background-color: #525D76; border: none;}</style> </head><body><h1>HTTP Status 403 - Bots not allowed</h1><div class=\"line\"></div><p><b>type</b> Status report</p><p><b>message</b> <u>Bots not allowed</u></p><p><b>description</b> <u>Access to the specified resource has been forbidden.</u></p><hr class=\"line\"/><h3>Apache Tomcat</h3></body></html>\n"
     ]
    }
   ],
   "source": [
    "for link in job_links[0:5]:\n",
    "    print(link)\n",
    "    job_html = requests.get('https://www.glassdoor.com'+link)\n",
    "    job_bs = soup(job_html.content,'html.parser')\n",
    "    print(job_bs)\n",
    "    job_text = job_bs.select('#JobDescriptionContainer')\n",
    "    for paragraph in job_text:\n",
    "     print(job_text.get_text())"
   ]
  },
  {
   "cell_type": "code",
   "execution_count": null,
   "metadata": {},
   "outputs": [],
   "source": []
  }
 ],
 "metadata": {
  "kernelspec": {
   "display_name": "Python 3",
   "language": "python",
   "name": "python3"
  },
  "language_info": {
   "codemirror_mode": {
    "name": "ipython",
    "version": 3
   },
   "file_extension": ".py",
   "mimetype": "text/x-python",
   "name": "python",
   "nbconvert_exporter": "python",
   "pygments_lexer": "ipython3",
   "version": "3.8.5"
  }
 },
 "nbformat": 4,
 "nbformat_minor": 4
}
